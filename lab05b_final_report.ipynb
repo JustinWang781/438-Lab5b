{
  "cells": [
    {
      "cell_type": "markdown",
      "metadata": {
        "id": "gdNS90JyX-yS"
      },
      "source": [
        "<h1><center>\n",
        "    ECE 438 - Laboratory 5b<br/>\n",
        "    Digital Filter Design (Week 2)<br/>\n",
        "    <small>Last updated on February 20, 2022</small><br/>\n",
        "    <br/>\n",
        "    Date:<br/>\n",
        "    Section:<br/>\n",
        "</center></h1>"
      ]
    },
    {
      "cell_type": "markdown",
      "metadata": {
        "id": "S83XvLHQX-yV"
      },
      "source": [
        "|Name |Signature |Time spent outside lab|\n",
        "|:---:|:---:|:---:|\n",
        "|Student Name #1 [---%]| | |\n",
        "|Student Name #2 [---%]| | |"
      ]
    },
    {
      "cell_type": "markdown",
      "metadata": {
        "id": "zrKdIzZFX-yW"
      },
      "source": [
        "||Below expectations| Lacks in some respect|Meets all expectations|\n",
        "|:---:|:---:|:---:|:---:|\n",
        "|**Completeness of the report**||||\n",
        "|**Organization of the report**||||\n",
        "|**Quality of figures**: *Correctly labeled with title, x-axis, y-axis, and name(s)*||||\n",
        "|**Understanding of filter design using standard windows (25 pts)**: *Time domain and DTFT plots of windows, table of spectral parameters, impulse response and DTFT of designed filter, questions*||||\n",
        "|**Understanding of filter design using the Kaiser window (25 pts)**: *Time domain and DTFT plots of windows, DTFT of designed filter, DTFT of filtered audio, questions*||||\n",
        "|**Understanding of FIR filter design using Parks-McClellan algorithm (25 pts)**: *DTFT of designed filter, DTFT of filtered audio, questions*||||\n",
        "|**Understanding of IIR filter design using Numerical optimization (25 pts)**: *Python code, DTFT of desired and designed filters, questions*||||"
      ]
    },
    {
      "cell_type": "code",
      "execution_count": 57,
      "metadata": {
        "id": "Arb6JOWCX-yY"
      },
      "outputs": [],
      "source": [
        "import numpy as np\n",
        "import matplotlib.pyplot as plt\n",
        "import soundfile as sf\n",
        "import IPython.display as ipd\n",
        "from helper import DTFT, hanning, hamming, blackman, kaiser, firpmord\n",
        "from scipy import signal, optimize"
      ]
    },
    {
      "cell_type": "code",
      "execution_count": 58,
      "metadata": {
        "id": "xO9kUoMQX-yZ",
        "outputId": "9001cbe6-b7fa-48e8-8b3b-ed05cc994c8a",
        "colab": {
          "base_uri": "https://localhost:8080/"
        }
      },
      "outputs": [
        {
          "output_type": "stream",
          "name": "stdout",
          "text": [
            "The autoreload extension is already loaded. To reload it, use:\n",
            "  %reload_ext autoreload\n"
          ]
        }
      ],
      "source": [
        "# make sure the plot is displayed in this notebook\n",
        "%matplotlib inline\n",
        "# specify the size of the plot\n",
        "plt.rcParams['figure.figsize'] = (12, 6)\n",
        "\n",
        "# for auto-reloading extenrnal modules\n",
        "%load_ext autoreload\n",
        "%autoreload 2"
      ]
    },
    {
      "cell_type": "markdown",
      "metadata": {
        "id": "QHmDfDJcX-ya"
      },
      "source": [
        "<h3 style=\"color:red;\"><left>Exercise 2</left></h3>"
      ]
    },
    {
      "cell_type": "markdown",
      "metadata": {
        "id": "XRndh8YnX-yb"
      },
      "source": [
        "**1. Plot the rectangular window function of length $21$.**"
      ]
    },
    {
      "cell_type": "code",
      "execution_count": 59,
      "metadata": {
        "id": "YBMIxhlcX-yb",
        "outputId": "c3436bd4-8bae-4326-a2b5-3d2460e0c824",
        "colab": {
          "base_uri": "https://localhost:8080/",
          "height": 391
        }
      },
      "outputs": [
        {
          "output_type": "execute_result",
          "data": {
            "text/plain": [
              "[<matplotlib.lines.Line2D at 0x7f7c18bfe910>]"
            ]
          },
          "metadata": {},
          "execution_count": 59
        },
        {
          "output_type": "display_data",
          "data": {
            "text/plain": [
              "<Figure size 864x432 with 1 Axes>"
            ],
            "image/png": "[encoded data removed]"
          },
          "metadata": {
            "needs_background": "light"
          }
        }
      ],
      "source": [
        "# insert your code here\n",
        "n = np.arange(-40,40+0.01,0.01)\n",
        "rect = ((n >= 0) & (n < 21)).astype(float)\n",
        "plt.plot(n, rect)"
      ]
    },
    {
      "cell_type": "markdown",
      "metadata": {
        "id": "H3KM1PoiX-yc"
      },
      "source": [
        "**2. Plot the Hanning window function of length $21$.**\n",
        "\n",
        "**Note**: you may use the function `h = hanning(N)` provided in `helper.py`."
      ]
    },
    {
      "cell_type": "code",
      "execution_count": 60,
      "metadata": {
        "id": "qZB772OcX-yd",
        "outputId": "edaa2243-a877-473f-86fc-15dc3ab82527",
        "colab": {
          "base_uri": "https://localhost:8080/",
          "height": 391
        }
      },
      "outputs": [
        {
          "output_type": "execute_result",
          "data": {
            "text/plain": [
              "[<matplotlib.lines.Line2D at 0x7f7c18b62700>]"
            ]
          },
          "metadata": {},
          "execution_count": 60
        },
        {
          "output_type": "display_data",
          "data": {
            "text/plain": [
              "<Figure size 864x432 with 1 Axes>"
            ],
            "image/png": "[encoded data removed]"
          },
          "metadata": {
            "needs_background": "light"
          }
        }
      ],
      "source": [
        "# insert your code here\n",
        "han = hanning(21)\n",
        "plt.plot(han)"
      ]
    },
    {
      "cell_type": "markdown",
      "metadata": {
        "id": "FpSsOO-8X-ye"
      },
      "source": [
        "**3. Plot the Hamming window function of length $21$.**\n",
        "\n",
        "**Note**: you may use the function `h = hamming(N)` provided in `helper.py`."
      ]
    },
    {
      "cell_type": "code",
      "execution_count": 61,
      "metadata": {
        "id": "chGxRHtxX-yf",
        "outputId": "37421ebb-4400-49c8-f2c3-af295cc0eded",
        "colab": {
          "base_uri": "https://localhost:8080/",
          "height": 391
        }
      },
      "outputs": [
        {
          "output_type": "execute_result",
          "data": {
            "text/plain": [
              "[<matplotlib.lines.Line2D at 0x7f7c18b40640>]"
            ]
          },
          "metadata": {},
          "execution_count": 61
        },
        {
          "output_type": "display_data",
          "data": {
            "text/plain": [
              "<Figure size 864x432 with 1 Axes>"
            ],
            "image/png": "[encoded data removed]"
          },
          "metadata": {
            "needs_background": "light"
          }
        }
      ],
      "source": [
        "# insert your code here\n",
        "ham = hamming(21)\n",
        "plt.plot(ham)"
      ]
    },
    {
      "cell_type": "markdown",
      "metadata": {
        "id": "Y70iEB85X-yg"
      },
      "source": [
        "**4. Plot the Blackman window function of length $21$.**\n",
        "\n",
        "**Note**: you may use the function `h = blackman(N)` provided in `helper.py`."
      ]
    },
    {
      "cell_type": "code",
      "execution_count": 62,
      "metadata": {
        "id": "Tj-QE_7XX-yg",
        "outputId": "15ca420c-ed28-452b-b636-fa58acc960d4",
        "colab": {
          "base_uri": "https://localhost:8080/",
          "height": 391
        }
      },
      "outputs": [
        {
          "output_type": "execute_result",
          "data": {
            "text/plain": [
              "[<matplotlib.lines.Line2D at 0x7f7c18a9e1f0>]"
            ]
          },
          "metadata": {},
          "execution_count": 62
        },
        {
          "output_type": "display_data",
          "data": {
            "text/plain": [
              "<Figure size 864x432 with 1 Axes>"
            ],
            "image/png": "[encoded data removed]"
          },
          "metadata": {
            "needs_background": "light"
          }
        }
      ],
      "source": [
        "# insert your code here\n",
        "blk = blackman(21)\n",
        "plt.plot(blk)"
      ]
    },
    {
      "cell_type": "markdown",
      "metadata": {
        "id": "aOPDpzQ_X-yg"
      },
      "source": [
        "---"
      ]
    },
    {
      "cell_type": "markdown",
      "metadata": {
        "id": "Hl4aOhmNX-yh"
      },
      "source": [
        "In Q9, we are going to make some measurements in the plots to be generated in Q5, Q6, Q7, Q8, so we temporarily make the plots interactive by running the following cell block. **Plot just one figure in each cell block and make sure you add the command `plt.figure()` before calling `plt.plot()`.**"
      ]
    },
    {
      "cell_type": "code",
      "execution_count": 95,
      "metadata": {
        "id": "-6dxSN-7X-yh"
      },
      "outputs": [],
      "source": [
        "# temporarily make the plot interactive\n",
        "%matplotlib notebook\n",
        "# specify the size of the plot\n",
        "plt.rcParams['figure.figsize'] = (12, 6)"
      ]
    },
    {
      "cell_type": "markdown",
      "metadata": {
        "id": "IQeSBNoaX-yi"
      },
      "source": [
        "**5. Compute and plot the DTFT magnitude of the rectangular window function. Plot the magnitude on a decibel scale (i.e., plot $20\\log_{10}|W(e^{j\\omega})|$). Also, use at least 512 sample points in computing the DTFT.**\n",
        "\n",
        "**Hint:** Use the function ```DTFT(window, 512)``` to compute the DTFT."
      ]
    },
    {
      "cell_type": "code",
      "execution_count": 64,
      "metadata": {
        "id": "cnFnpSu5X-yj"
      },
      "outputs": [],
      "source": [
        "# insert your code here\n"
      ]
    },
    {
      "cell_type": "markdown",
      "metadata": {
        "id": "w_6MwaFLX-yj"
      },
      "source": [
        "**6. Compute and plot the DTFT magnitude of the Hanning window function. Plot the magnitude on a decibel scale (i.e., plot $20\\log_{10}|W(e^{j\\omega})|$). Also, use at least 512 sample points in computing the DTFT.**\n",
        "\n",
        "**Hint:** Use the function ```DTFT(window, 512)``` to compute the DTFT."
      ]
    },
    {
      "cell_type": "code",
      "execution_count": 65,
      "metadata": {
        "id": "jnQI7zuOX-yk"
      },
      "outputs": [],
      "source": [
        "# insert your code here\n"
      ]
    },
    {
      "cell_type": "markdown",
      "metadata": {
        "id": "Db7Kre7pX-yk"
      },
      "source": [
        "**7. Compute and plot the DTFT magnitude of the Hamming window function. Plot the magnitude on a decibel scale (i.e., plot $20\\log_{10}|W(e^{j\\omega})|$). Also, use at least 512 sample points in computing the DTFT.**\n",
        "\n",
        "**Hint:** Use the function ```DTFT(window, 512)``` to compute the DTFT."
      ]
    },
    {
      "cell_type": "code",
      "execution_count": 66,
      "metadata": {
        "id": "X2-BUh5mX-yk"
      },
      "outputs": [],
      "source": [
        "# insert your code here\n"
      ]
    },
    {
      "cell_type": "markdown",
      "metadata": {
        "id": "J3CNjoSiX-yl"
      },
      "source": [
        "**8. Compute and plot the DTFT magnitude of the Blackman window function. Plot the magnitude on a decibel scale (i.e., plot $20\\log_{10}|W(e^{j\\omega})|$). Also, use at least 512 sample points in computing the DTFT.**\n",
        "\n",
        "**Hint:** Use the function ```DTFT(window, 512)``` to compute the DTFT."
      ]
    },
    {
      "cell_type": "code",
      "execution_count": 67,
      "metadata": {
        "id": "4umUKwVnX-yl"
      },
      "outputs": [],
      "source": [
        "# insert your code here\n"
      ]
    },
    {
      "cell_type": "markdown",
      "metadata": {
        "id": "zeV-r4BgX-ym"
      },
      "source": [
        "**9. Measure the null-to-null mainlobe width (in rad/sample) and the peak-to-sidelobe amplitude (in dB) from the logarithmic magnitude response plot for each window type. Fill in the table below.**"
      ]
    },
    {
      "cell_type": "markdown",
      "metadata": {
        "id": "QWRncRg_X-ym"
      },
      "source": [
        "|Window (length $N$)|Mainlobe Width (theoretical)|Mainlobe Width (experimental)|Peak-to-sidelobe Amplitude (dB) (theoretical)|Peak-to-sidelobe Amplitude (dB) (experimental)|\n",
        "|:---:|:---:|:---:|:---:|:---:|\n",
        "|Rectangular|4π/21||-13||\n",
        "|Hanning|8π/21||-32||\n",
        "|Hamming|8π/21||-43||\n",
        "|Blackman|12π/21||-58||"
      ]
    },
    {
      "cell_type": "markdown",
      "metadata": {
        "id": "aQE0rx8cX-yn"
      },
      "source": [
        "---"
      ]
    },
    {
      "cell_type": "markdown",
      "metadata": {
        "id": "abrJGRlHX-yn"
      },
      "source": [
        "After you obtain the measurements, run the following cell to make the plot not interactive."
      ]
    },
    {
      "cell_type": "code",
      "execution_count": 68,
      "metadata": {
        "id": "1JA96wmXX-yn"
      },
      "outputs": [],
      "source": [
        "# make the plot not interactive\n",
        "%matplotlib inline\n",
        "# specify the size of the plot\n",
        "plt.rcParams['figure.figsize'] = (12, 6)"
      ]
    },
    {
      "cell_type": "markdown",
      "metadata": {
        "id": "52b0qTahX-yo"
      },
      "source": [
        "**10. Comment on how close the experimental results matched the ideal values and the relation between the width of the mainlobe and the peak-to-sidelobe amplitude.**"
      ]
    },
    {
      "cell_type": "markdown",
      "metadata": {
        "id": "OpshErILX-yo"
      },
      "source": [
        "insert your answer here"
      ]
    },
    {
      "cell_type": "markdown",
      "metadata": {
        "id": "9fMWW26zX-yo"
      },
      "source": [
        "**11. Now use a Hamming window to design a lowpass filter h(n) with a cutoff frequency of $\\omega_c$ = 2.0 and length 21. Plot the filter’s impulse response.**\n",
        "\n",
        "**Note**: You need to use equations (1) and (2) for this design."
      ]
    },
    {
      "cell_type": "code",
      "execution_count": 69,
      "metadata": {
        "id": "uZoCQy2OX-yp"
      },
      "outputs": [],
      "source": [
        "# insert your code here\n"
      ]
    },
    {
      "cell_type": "markdown",
      "metadata": {
        "id": "cbluIO0uX-yp"
      },
      "source": [
        "**12. Plot the magnitude of the filter’s DTFT in decibels.**"
      ]
    },
    {
      "cell_type": "code",
      "execution_count": 70,
      "metadata": {
        "id": "tA5TtxXxX-yq"
      },
      "outputs": [],
      "source": [
        "# insert your code here\n"
      ]
    },
    {
      "cell_type": "markdown",
      "metadata": {
        "id": "BKpeWIy1X-yq"
      },
      "source": [
        "<h3 style=\"color:red;\"><left>Exercise 3.1</left></h3>"
      ]
    },
    {
      "cell_type": "markdown",
      "metadata": {
        "id": "6fMOxzgvX-yq"
      },
      "source": [
        "To further investigate the Kaiser window, plot the Kaiser windows and their DTFT magnitudes (in dB) for $N = 21$ and the following values of $\\beta$:\n",
        "\n",
        "  * $\\beta=0$\n",
        "  * $\\beta=1$\n",
        "  * $\\beta=5$\n",
        "  \n",
        "For each case use at least 512 points in the plot of the DTFT.\n",
        "\n",
        "**Hint:** To create the Kaiser windows, use the command ```kaiser(N, beta)``` where `N` is the length of the filter and `beta` is the shape parameter $\\beta$. To insure at least 512 points in the plot use the command `DTFT(window, 512)` when computing the DTFT."
      ]
    },
    {
      "cell_type": "markdown",
      "metadata": {
        "id": "7chSQGGQX-yr"
      },
      "source": [
        "**1. Plot the Kaiser window and the DTFT magnitude (in dB) for $\\beta=0$.**"
      ]
    },
    {
      "cell_type": "code",
      "execution_count": 71,
      "metadata": {
        "id": "aEmob_I5X-yr"
      },
      "outputs": [],
      "source": [
        "# insert your code here\n"
      ]
    },
    {
      "cell_type": "markdown",
      "metadata": {
        "id": "RtbxFZaeX-yr"
      },
      "source": [
        "**2. Plot the Kaiser window and the DTFT magnitude (in dB) for $\\beta=1$.**"
      ]
    },
    {
      "cell_type": "code",
      "execution_count": 72,
      "metadata": {
        "id": "Er3HDMuuX-ys"
      },
      "outputs": [],
      "source": [
        "# insert your code here\n"
      ]
    },
    {
      "cell_type": "markdown",
      "metadata": {
        "id": "z9J1WXu0X-ys"
      },
      "source": [
        "**3. Plot the Kaiser window and the DTFT magnitude (in dB) for $\\beta=5$.**"
      ]
    },
    {
      "cell_type": "code",
      "execution_count": 73,
      "metadata": {
        "id": "j7CtwKwFX-ys"
      },
      "outputs": [],
      "source": [
        "# insert your code here\n"
      ]
    },
    {
      "cell_type": "markdown",
      "metadata": {
        "id": "GdzniWFMX-ys"
      },
      "source": [
        "**4. Comment on how the value $\\beta$ affects the shape of the window and the sidelobes of the DTFT.**"
      ]
    },
    {
      "cell_type": "markdown",
      "metadata": {
        "id": "bKcS8SwXX-yt"
      },
      "source": [
        "insert your answer here"
      ]
    },
    {
      "cell_type": "markdown",
      "metadata": {
        "id": "9VB8dcAOX-yt"
      },
      "source": [
        "<h3 style=\"color:red;\"><left>Exercise 3.2</left></h3>"
      ]
    },
    {
      "cell_type": "markdown",
      "metadata": {
        "id": "cDfpPg25X-yt"
      },
      "source": [
        "**1. Use the kaiser window command to design a low pass filter using the specifications listed above. Print out the values of $\\beta$ and $N$.**"
      ]
    },
    {
      "cell_type": "code",
      "execution_count": 74,
      "metadata": {
        "id": "9kN-EKURX-yu"
      },
      "outputs": [],
      "source": [
        "# insert your code here\n"
      ]
    },
    {
      "cell_type": "markdown",
      "metadata": {
        "id": "xya_wPFcX-yu"
      },
      "source": [
        "**2. Print out the value of $\\omega_c$.**"
      ]
    },
    {
      "cell_type": "code",
      "execution_count": 75,
      "metadata": {
        "id": "WOE6T9tBX-yu"
      },
      "outputs": [],
      "source": [
        "# insert your code here\n"
      ]
    },
    {
      "cell_type": "markdown",
      "metadata": {
        "id": "0aDnLbs_X-yv"
      },
      "source": [
        "**3. Plot the magnitude of the DTFT of the designed low pass filter for $|\\omega| < \\pi$.**\n",
        "\n",
        "**Note:** Since the ripple is measured on a magnitude scale, DO NOT use a decibel scale on the plot."
      ]
    },
    {
      "cell_type": "code",
      "execution_count": 76,
      "metadata": {
        "id": "AZ9vPzulX-yv"
      },
      "outputs": [],
      "source": [
        "# insert your code here\n"
      ]
    },
    {
      "cell_type": "markdown",
      "metadata": {
        "id": "GQNKfQ1vX-yv"
      },
      "source": [
        "**4. Now, plot the magnitude of the DTFT of the designed low pass filter for $|\\omega| < \\pi$ again, but the plot should show the passband ripple only. Save the plot by calling `plt.savefig(\"passband.png\")` at the end.**\n",
        "\n",
        "**Hint:** you may use [`plt.xlim()`](https://matplotlib.org/stable/api/_as_gen/matplotlib.pyplot.xlim.html) and [`plt.ylim()`](https://matplotlib.org/stable/api/_as_gen/matplotlib.pyplot.ylim.html)."
      ]
    },
    {
      "cell_type": "code",
      "execution_count": 77,
      "metadata": {
        "id": "cUozppu8X-yw"
      },
      "outputs": [],
      "source": [
        "# insert your code here\n"
      ]
    },
    {
      "cell_type": "markdown",
      "metadata": {
        "id": "DIIimr-zX-yw"
      },
      "source": [
        "**5. Now, plot the magnitude of the DTFT of the designed low pass filter for $|\\omega| < \\pi$ again, but the plot should show the stopband ripple only. Save the plot by calling `plt.savefig(\"stopband.png\")` at the end.**\n",
        "\n",
        "**Hint:** you may use [`plt.xlim()`](https://matplotlib.org/stable/api/_as_gen/matplotlib.pyplot.xlim.html) and [`plt.ylim()`](https://matplotlib.org/stable/api/_as_gen/matplotlib.pyplot.ylim.html)."
      ]
    },
    {
      "cell_type": "code",
      "execution_count": 78,
      "metadata": {
        "id": "3RV4CcJKX-yw"
      },
      "outputs": [],
      "source": [
        "# insert your code here\n"
      ]
    },
    {
      "cell_type": "markdown",
      "metadata": {
        "id": "Duq5qenPX-yx"
      },
      "source": [
        "**6. On the saved image `passband.png`, mark $\\omega_p$ and $\\delta_p$ where appropiate, and attach the marked image here.**"
      ]
    },
    {
      "cell_type": "markdown",
      "metadata": {
        "id": "hLLzOK2oX-yx"
      },
      "source": [
        "insert your answer here"
      ]
    },
    {
      "cell_type": "markdown",
      "metadata": {
        "id": "SKnOdPe5X-yx"
      },
      "source": [
        "**7. On the saved image `stopband.png`, mark $\\omega_s$ and $\\delta_s$ where appropiate, and attach the marked image here.**"
      ]
    },
    {
      "cell_type": "markdown",
      "metadata": {
        "id": "-BMf4KMvX-yx"
      },
      "source": [
        "insert your answer here"
      ]
    },
    {
      "cell_type": "markdown",
      "metadata": {
        "id": "lxaH7nFoX-yy"
      },
      "source": [
        "**8. Compute the stopband and passband ripple and display it to three decimal places (do not do this graphically). Do they meet the design specifications?**\n",
        "\n",
        "**Hint:** Find the value of the DTFT at frequencies corresponding to the passband using the command `H[abs(w) <= 1.8]` where `H` is the DTFT of `h[n]` and `w` is the corresponding vector of frequencies. Then use this vector to compute the passband ripple. Use a similar procedure for the stopband ripple. "
      ]
    },
    {
      "cell_type": "code",
      "execution_count": 79,
      "metadata": {
        "id": "SS7H_r2lX-yy"
      },
      "outputs": [],
      "source": [
        "# insert your code here\n"
      ]
    },
    {
      "cell_type": "markdown",
      "metadata": {
        "id": "n4yCF7aSX-yy"
      },
      "source": [
        "**9. Load the file ```nspeech2.npy``` using `np.load(\"nspeech2.npy\")` and play it using the command ```ipd.Audio(nspeech2, rate=8000)```. Also, note the quality of the speech and background noise.**"
      ]
    },
    {
      "cell_type": "code",
      "execution_count": 80,
      "metadata": {
        "id": "DhgMrbN4X-yz"
      },
      "outputs": [],
      "source": [
        "# insert your code here\n"
      ]
    },
    {
      "cell_type": "markdown",
      "metadata": {
        "id": "A1dXdjMvX-yz"
      },
      "source": [
        "insert your answer here"
      ]
    },
    {
      "cell_type": "markdown",
      "metadata": {
        "id": "6R5Bi9PyX-yz"
      },
      "source": [
        "**10. Apply the filter that you have designed to this signal. Then, compute the DTFT of 400 samples of the filtered signal starting at time `n = 20000`. Plot the magnitude of the DTFT samples in decibels versus frequency in radians for $|\\omega<\\pi|$.**"
      ]
    },
    {
      "cell_type": "code",
      "execution_count": 81,
      "metadata": {
        "id": "DdwS8MbLX-y0"
      },
      "outputs": [],
      "source": [
        "# insert your code here\n"
      ]
    },
    {
      "cell_type": "markdown",
      "metadata": {
        "id": "MpfK-dqcX-y0"
      },
      "source": [
        "**11. Compare this plot with the spectrum of the noisy speech signal shown in Fig. 4. Play the noisy and filtered speech signals and listen to them carefully.**"
      ]
    },
    {
      "cell_type": "code",
      "execution_count": 82,
      "metadata": {
        "id": "pykwc6ypX-y0"
      },
      "outputs": [],
      "source": [
        "# insert your code here\n"
      ]
    },
    {
      "cell_type": "markdown",
      "metadata": {
        "id": "bWC3G1s4X-y1"
      },
      "source": [
        "**12. Comment on how the frequency content and the audio quality of the filtered signal\n",
        "have changed after filtering.**"
      ]
    },
    {
      "cell_type": "markdown",
      "metadata": {
        "id": "phl3wbyfX-y1"
      },
      "source": [
        "insert your answer here"
      ]
    },
    {
      "cell_type": "markdown",
      "metadata": {
        "id": "Aopx4-MMX-y1"
      },
      "source": [
        "<h3 style=\"color:red;\"><left>Exercise 4.1</left></h3>"
      ]
    },
    {
      "cell_type": "markdown",
      "metadata": {
        "id": "aksfPOGwX-y2"
      },
      "source": [
        "**1. Design a symmetric FIR filter using `firpmord` and ```signal.remez``` to meet the design specifications given in Section 3.**"
      ]
    },
    {
      "cell_type": "code",
      "execution_count": 83,
      "metadata": {
        "id": "wEFg3NnMX-y2"
      },
      "outputs": [],
      "source": [
        "# insert your code here\n"
      ]
    },
    {
      "cell_type": "markdown",
      "metadata": {
        "id": "U5Wy4ZLpX-y2"
      },
      "source": [
        "**2. Compute the DTFT of the filter’s response for at least 512 points, and use this result to compute the passband and stopband ripple of the filter that was designed.** "
      ]
    },
    {
      "cell_type": "code",
      "execution_count": 84,
      "metadata": {
        "id": "TtALiAs7X-y3"
      },
      "outputs": [],
      "source": [
        "# insert your code here\n"
      ]
    },
    {
      "cell_type": "markdown",
      "metadata": {
        "id": "FMjc2h-wX-y3"
      },
      "source": [
        "**3. Plot the filter's DTFT in dB.**"
      ]
    },
    {
      "cell_type": "code",
      "execution_count": 85,
      "metadata": {
        "id": "6c8Xp6XzX-y3"
      },
      "outputs": [],
      "source": [
        "# insert your code here\n"
      ]
    },
    {
      "cell_type": "markdown",
      "metadata": {
        "id": "WaV6R6OzX-y4"
      },
      "source": [
        "**4. How accurate was the filter order computation using `firpmord` and `scipy.remez`? How does the length of this filter compare to the filter designed using a Kaiser window?**"
      ]
    },
    {
      "cell_type": "markdown",
      "metadata": {
        "id": "fHBgnTmQX-y4"
      },
      "source": [
        "insert your answer here"
      ]
    },
    {
      "cell_type": "markdown",
      "metadata": {
        "id": "eD3XQf51X-y4"
      },
      "source": [
        "**5. How does the frequency response of the Parks-McClellan filter compare to the filter designed using the Kaiser window? Comment on the shape of both the passband and stopband.**"
      ]
    },
    {
      "cell_type": "markdown",
      "metadata": {
        "id": "nniPg3FwX-y5"
      },
      "source": [
        "insert your answer here"
      ]
    },
    {
      "cell_type": "markdown",
      "metadata": {
        "id": "G7mtZDA_X-y5"
      },
      "source": [
        "<h3 style=\"color:red;\"><left>Exercise 4.2</left></h3>"
      ]
    },
    {
      "cell_type": "markdown",
      "metadata": {
        "id": "AQUewMj1X-y5"
      },
      "source": [
        "**1. Use the filter you have designed to remove the noise from the signal `nspeech2.npy`. Play the noisy and filtered speech signals back using sound and listen to them carefully.**"
      ]
    },
    {
      "cell_type": "code",
      "execution_count": 86,
      "metadata": {
        "id": "2U-wSJA4X-y5"
      },
      "outputs": [],
      "source": [
        "# noisy speech signal\n"
      ]
    },
    {
      "cell_type": "code",
      "execution_count": 87,
      "metadata": {
        "id": "rrDLxLj0X-y5"
      },
      "outputs": [],
      "source": [
        "# filtered speech signal\n"
      ]
    },
    {
      "cell_type": "markdown",
      "metadata": {
        "id": "eW6ENZomX-y6"
      },
      "source": [
        "**2. Comment on how the audio quality of the signal changes after filtering. Also comment on any differences in audio quality between the Parks-McClellan filtered speech and the Kaiser filtered speech.**"
      ]
    },
    {
      "cell_type": "markdown",
      "metadata": {
        "id": "geXB7m7VX-y6"
      },
      "source": [
        "insert your answer here"
      ]
    },
    {
      "cell_type": "markdown",
      "metadata": {
        "id": "3iom2QN2X-y6"
      },
      "source": [
        "**3. Compute the DTFT of 400 samples of the filtered signal starting at time `n = 20000` (i.e., `[20000:20400]`). Plot the magnitude of the DTFT in decibels versus frequency in radians for $|\\omega| < \\pi$.**"
      ]
    },
    {
      "cell_type": "code",
      "execution_count": 88,
      "metadata": {
        "id": "NyPH3uSSX-y7"
      },
      "outputs": [],
      "source": [
        "# insert your code here\n"
      ]
    },
    {
      "cell_type": "markdown",
      "metadata": {
        "id": "eUbLmueoX-y7"
      },
      "source": [
        "**4. Compare this with the spectrum of the noisy speech signal shown in Fig. 4, and also with the magnitude of the DTFT of the Kaiser filtered signal.**"
      ]
    },
    {
      "cell_type": "markdown",
      "metadata": {
        "id": "VXXtgCWMX-y7"
      },
      "source": [
        "insert your answer here"
      ]
    },
    {
      "cell_type": "markdown",
      "metadata": {
        "id": "4USw7pC4X-y8"
      },
      "source": [
        "<h3 style=\"color:red;\"><left>Exercise 5</left></h3>"
      ]
    },
    {
      "cell_type": "markdown",
      "metadata": {
        "id": "eROwxYCuX-y8"
      },
      "source": [
        "**1. Write a function with the following syntax that computes the frequency response $H_\\theta(e^{j\\omega})$:**\n",
        "```python\n",
        "def prefilter(w, theta):\n",
        "    \"\"\"\n",
        "    Parameters:\n",
        "    ---\n",
        "    w: the vector of input frequencies\n",
        "    theta: the parameter vector\n",
        "    \n",
        "    Returns:\n",
        "    ---\n",
        "    H: the frequency response from equation (6)\n",
        "    \"\"\"\n",
        "    H = None\n",
        "    return H\n",
        "```"
      ]
    },
    {
      "cell_type": "code",
      "execution_count": 89,
      "metadata": {
        "id": "uUPVFv3SX-y8"
      },
      "outputs": [],
      "source": [
        "# insert your code here\n",
        "def prefilter(w, theta):\n",
        "    \"\"\"\n",
        "    Parameters:\n",
        "    ---\n",
        "    w: the vector of input frequencies\n",
        "    theta: the parameter vector\n",
        "    \n",
        "    Returns:\n",
        "    ---\n",
        "    H: the frequency response from equation (6)\n",
        "    \"\"\"\n",
        "    H = None\n",
        "    return H"
      ]
    },
    {
      "cell_type": "markdown",
      "metadata": {
        "id": "X7EHP0ynX-y9"
      },
      "source": [
        "**2. Write a function with the following syntax to compute the total squared error of equation (7):**\n",
        "```python\n",
        "def cost(theta):\n",
        "    \"\"\"\n",
        "    Parameters:\n",
        "    ---\n",
        "    theta: the parameter vector\n",
        "    \n",
        "    Returns:\n",
        "    ---\n",
        "    C: the computed total squared error of equation (7)\n",
        "    \"\"\"\n",
        "    C = None\n",
        "    return C\n",
        "``` \n",
        "**Use a sampling interval $\\Delta\\omega=0.01$ for the functions $H_\\theta(e^{j\\omega})$ and $1/H_\\text{sh}(e^{j\\omega})$.**"
      ]
    },
    {
      "cell_type": "code",
      "execution_count": 90,
      "metadata": {
        "id": "yPPT8GuuX-y9"
      },
      "outputs": [],
      "source": [
        "# insert your code here\n",
        "def cost(theta):\n",
        "    \"\"\"\n",
        "    Parameters:\n",
        "    ---\n",
        "    theta: the parameter vector\n",
        "    \n",
        "    Returns:\n",
        "    ---\n",
        "    C: the computed total squared error of equation (7)\n",
        "    \"\"\"\n",
        "    C = None\n",
        "    return C"
      ]
    },
    {
      "cell_type": "markdown",
      "metadata": {
        "id": "tZBV5rFvX-y_"
      },
      "source": [
        "**3. Use the function [```optimize.fmin```](https://docs.scipy.org/doc/scipy/reference/generated/scipy.optimize.fmin.html) from the ```scipy``` library to compute the value of the parameter $\\theta$ which minimizes `Cost(theta)`. The function has the following syntax:**\n",
        "```python\n",
        "def optimize.fmin(func_name, init_param)\n",
        "    \"\"\"\n",
        "    Parameters\n",
        "    ---\n",
        "    func_name: the name of the function being minimized (cost)\n",
        "    init_param: the starting value for the unknown parameter\n",
        "    \n",
        "    Returns:\n",
        "    ---\n",
        "    param: the parameter that minimizes the function\n",
        "    return param\n",
        "```\n",
        "**Choose an initial value of $(\\theta_1, \\theta_2, \\theta_3, \\theta_4, \\theta_5) = (1, 0, 0, 0, 0)$ so that $H_\\theta(e^{j\\omega}) = 1$.**"
      ]
    },
    {
      "cell_type": "code",
      "execution_count": 91,
      "metadata": {
        "id": "KfijBgjBX-y_"
      },
      "outputs": [],
      "source": [
        "# insert your code here\n"
      ]
    },
    {
      "cell_type": "markdown",
      "metadata": {
        "id": "aVQ7NGdIX-zB"
      },
      "source": [
        "**4. Give an analytical expression for the optimized transfer function $H_{θ^∗}(z)$ with the coefficients that were computed.**"
      ]
    },
    {
      "cell_type": "markdown",
      "metadata": {
        "id": "Jy7AkC_RX-zB"
      },
      "source": [
        "insert your answer here"
      ]
    },
    {
      "cell_type": "markdown",
      "metadata": {
        "id": "rpbOKzM1X-zB"
      },
      "source": [
        "**5. Plot the desired filter magnitude response $\\frac{1}{H_{\\text{sh}}(e^{j\\omega})}$ on the interval `[-np.pi, np.pi]`.**"
      ]
    },
    {
      "cell_type": "code",
      "execution_count": 92,
      "metadata": {
        "id": "blC_jRPqX-zB"
      },
      "outputs": [],
      "source": [
        "# insert your code here\n"
      ]
    },
    {
      "cell_type": "markdown",
      "metadata": {
        "id": "C0_t5XYkX-zB"
      },
      "source": [
        "**6. Plot the designed IIR filter magnitude response $|H_{\\theta^∗} (e^{j\\omega})|$ on the interval `[-np.pi, np.pi]`.**"
      ]
    },
    {
      "cell_type": "code",
      "execution_count": 93,
      "metadata": {
        "id": "tY-lPq8nX-zC"
      },
      "outputs": [],
      "source": [
        "# insert your code here\n"
      ]
    },
    {
      "cell_type": "markdown",
      "metadata": {
        "id": "kQDqm-0HX-zC"
      },
      "source": [
        "**7. Plot the error in decibels, from equation (8) on the interval `[-np.pi, np.pi]`.**"
      ]
    },
    {
      "cell_type": "code",
      "execution_count": 94,
      "metadata": {
        "id": "0aCR9RBpX-zC"
      },
      "outputs": [],
      "source": [
        "# insert your code here\n"
      ]
    },
    {
      "cell_type": "markdown",
      "metadata": {
        "id": "C0tkjNEcX-zC"
      },
      "source": [
        "**8. By looking at the error plot, indicate the frequency ranges where the approximation error is high.**"
      ]
    },
    {
      "cell_type": "markdown",
      "metadata": {
        "id": "DgvjqqwHX-zD"
      },
      "source": [
        "insert your answer here"
      ]
    }
  ],
  "metadata": {
    "kernelspec": {
      "display_name": "Python 3 (ipykernel)",
      "language": "python",
      "name": "python3"
    },
    "language_info": {
      "codemirror_mode": {
        "name": "ipython",
        "version": 3
      },
      "file_extension": ".py",
      "mimetype": "text/x-python",
      "name": "python",
      "nbconvert_exporter": "python",
      "pygments_lexer": "ipython3",
      "version": "3.8.1"
    },
    "colab": {
      "provenance": []
    }
  },
  "nbformat": 4,
  "nbformat_minor": 0
}